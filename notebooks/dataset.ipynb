{
 "cells": [
  {
   "cell_type": "code",
   "execution_count": null,
   "metadata": {
    "collapsed": true
   },
   "outputs": [],
   "source": [
    "import os\n",
    "import shutil\n",
    "\n",
    "import numpy as np\n",
    "\n",
    "from imutils import paths\n",
    "from sklearn.model_selection import train_test_split"
   ]
  },
  {
   "cell_type": "code",
   "execution_count": null,
   "metadata": {
    "collapsed": false
   },
   "outputs": [],
   "source": [
    "images = list(paths.list_images(\"../data/archive\"))"
   ]
  },
  {
   "cell_type": "code",
   "execution_count": null,
   "metadata": {
    "collapsed": false
   },
   "outputs": [],
   "source": [
    "images[0]"
   ]
  },
  {
   "cell_type": "code",
   "execution_count": null,
   "metadata": {
    "collapsed": false
   },
   "outputs": [],
   "source": [
    "images[0].split(\"/\")[-1].replace(\".png\", \"\")[-1]"
   ]
  },
  {
   "cell_type": "code",
   "execution_count": null,
   "metadata": {
    "collapsed": false
   },
   "outputs": [],
   "source": [
    "# Invasive Ductal Carcinoma (IDC) is the most common subtype of all breast cancers\n",
    "# 0 is non-IDC and 1 is IDC"
   ]
  },
  {
   "cell_type": "code",
   "execution_count": null,
   "metadata": {
    "collapsed": false
   },
   "outputs": [],
   "source": [
    "idc = []\n",
    "non_idc = []\n",
    "\n",
    "for image in images:\n",
    "    if image.split(\"/\")[-1].replace(\".png\", \"\")[-1] == \"0\":\n",
    "        non_idc.append(image)\n",
    "    if image.split(\"/\")[-1].replace(\".png\", \"\")[-1] == \"1\":\n",
    "        idc.append(image)"
   ]
  },
  {
   "cell_type": "code",
   "execution_count": null,
   "metadata": {
    "collapsed": false
   },
   "outputs": [],
   "source": [
    "# check if all images are accounted for\n",
    "len(idc) + len(non_idc) == len(images)"
   ]
  },
  {
   "cell_type": "code",
   "execution_count": null,
   "metadata": {
    "collapsed": false
   },
   "outputs": [],
   "source": [
    "print(f\"IDC: {len(idc)}\")\n",
    "print(f\"Non-IDC: {len(non_idc)}\")"
   ]
  },
  {
   "cell_type": "code",
   "execution_count": null,
   "metadata": {
    "collapsed": false
   },
   "outputs": [],
   "source": [
    "print(f\"IDC: {round(len(idc)/len(images), 2)}\")\n",
    "print(f\"Non-IDC: {round(len(non_idc)/len(images), 2)}\")"
   ]
  },
  {
   "cell_type": "code",
   "execution_count": null,
   "metadata": {
    "collapsed": false
   },
   "outputs": [],
   "source": [
    "# the dataset is imbalanced, to deal with this i'll undersample the non-idc images\n",
    "non_idc = np.random.choice(non_idc, len(idc), replace=False)"
   ]
  },
  {
   "cell_type": "code",
   "execution_count": null,
   "metadata": {
    "collapsed": false
   },
   "outputs": [],
   "source": [
    "# creation of the train, validation and test splits\n",
    "train_idc, tmp_idc = train_test_split(idc, test_size=0.2, random_state=42)\n",
    "train_non_idc, tmp_non_idc = train_test_split(non_idc, test_size=0.2, random_state=42)\n",
    "\n",
    "test_idc, val_idc = train_test_split(tmp_idc, test_size=0.5, random_state=42)\n",
    "test_non_idc, val_non_idc = train_test_split(tmp_non_idc, test_size=0.5, random_state=42)"
   ]
  },
  {
   "cell_type": "code",
   "execution_count": null,
   "metadata": {
    "collapsed": false
   },
   "outputs": [],
   "source": [
    "print(f\"Train IDC: {len(train_idc)}\")\n",
    "print(f\"Train Non-IDC: {len(train_non_idc)}\\n\")\n",
    "print(f\"Test IDC: {len(test_idc)}\")\n",
    "print(f\"Test Non-IDC: {len(test_non_idc)}\\n\")\n",
    "print(f\"Val IDC: {len(val_idc)}\")\n",
    "print(f\"Val Non-IDC: {len(val_non_idc)}\")"
   ]
  },
  {
   "cell_type": "code",
   "execution_count": null,
   "metadata": {
    "collapsed": false
   },
   "outputs": [],
   "source": [
    "if os.path.exists(\"../data/dataset\"):\n",
    "    print(\"Dataset already exists\")\n",
    "else:\n",
    "    os.mkdir(\"../data/dataset\")\n",
    "    os.mkdir(\"../data/dataset/train\")\n",
    "    os.mkdir(\"../data/dataset/test\")\n",
    "    os.mkdir(\"../data/dataset/val\")\n",
    "    os.mkdir(\"../data/dataset/train/idc\")\n",
    "    os.mkdir(\"../data/dataset/train/non_idc\")\n",
    "    os.mkdir(\"../data/dataset/test/idc\")\n",
    "    os.mkdir(\"../data/dataset/test/non_idc\")\n",
    "    os.mkdir(\"../data/dataset/val/idc\")\n",
    "    os.mkdir(\"../data/dataset/val/non_idc\")"
   ]
  },
  {
   "cell_type": "code",
   "execution_count": null,
   "metadata": {
    "collapsed": false
   },
   "outputs": [],
   "source": [
    "for image in train_idc:\n",
    "    with open(image, 'rb') as src_file:\n",
    "        with open(f\"../data/dataset/train/idc/{image.split('/')[-1]}\", 'wb') as dest_file:\n",
    "            shutil.copyfileobj(src_file, dest_file)"
   ]
  },
  {
   "cell_type": "code",
   "execution_count": null,
   "metadata": {
    "collapsed": false
   },
   "outputs": [],
   "source": [
    "for image in train_non_idc:\n",
    "    with open(image, 'rb') as src_file:\n",
    "        with open(f\"../data/dataset/train/non_idc/{image.split('/')[-1]}\", 'wb') as dest_file:\n",
    "            shutil.copyfileobj(src_file, dest_file)"
   ]
  },
  {
   "cell_type": "code",
   "execution_count": null,
   "metadata": {
    "collapsed": false
   },
   "outputs": [],
   "source": [
    "for image in test_idc:\n",
    "    with open(image, 'rb') as src_file:\n",
    "        with open(f\"../data/dataset/test/idc/{image.split('/')[-1]}\", 'wb') as dest_file:\n",
    "            shutil.copyfileobj(src_file, dest_file)"
   ]
  },
  {
   "cell_type": "code",
   "execution_count": null,
   "metadata": {
    "collapsed": false
   },
   "outputs": [],
   "source": [
    "for image in test_non_idc:\n",
    "    with open(image, 'rb') as src_file:\n",
    "        with open(f\"../data/dataset/test/non_idc/{image.split('/')[-1]}\", 'wb') as dest_file:\n",
    "            shutil.copyfileobj(src_file, dest_file)"
   ]
  },
  {
   "cell_type": "code",
   "execution_count": null,
   "metadata": {
    "collapsed": false
   },
   "outputs": [],
   "source": [
    "for image in val_idc:\n",
    "    with open(image, 'rb') as src_file:\n",
    "        with open(f\"../data/dataset/val/idc/{image.split('/')[-1]}\", 'wb') as dest_file:\n",
    "            shutil.copyfileobj(src_file, dest_file)"
   ]
  },
  {
   "cell_type": "code",
   "execution_count": null,
   "metadata": {
    "collapsed": false
   },
   "outputs": [],
   "source": [
    "for image in val_non_idc:\n",
    "    with open(image, 'rb') as src_file:\n",
    "        with open(f\"../data/dataset/val/non_idc/{image.split('/')[-1]}\", 'wb') as dest_file:\n",
    "            shutil.copyfileobj(src_file, dest_file)"
   ]
  },
  {
   "cell_type": "code",
   "execution_count": null,
   "metadata": {
    "collapsed": false
   },
   "outputs": [],
   "source": [
    "# check if all images are accounted for\n",
    "print(f\"train IDC : {len(list(paths.list_images('../data/dataset/train/idc')))}\")\n",
    "print(f\"train Non-IDC : {len(list(paths.list_images('../data/dataset/train/non_idc')))}\\n\")\n",
    "print(f\"test IDC : {len(list(paths.list_images('../data/dataset/test/idc')))}\")\n",
    "print(f\"test Non-IDC : {len(list(paths.list_images('../data/dataset/test/non_idc')))}\\n\")\n",
    "print(f\"val IDC : {len(list(paths.list_images('../data/dataset/val/idc')))}\")\n",
    "print(f\"val Non-IDC : {len(list(paths.list_images('../data/dataset/val/non_idc')))}\")"
   ]
  }
 ],
 "metadata": {
  "kernelspec": {
   "display_name": "Python 3",
   "language": "python",
   "name": "python3"
  },
  "language_info": {
   "codemirror_mode": {
    "name": "ipython",
    "version": 2
   },
   "file_extension": ".py",
   "mimetype": "text/x-python",
   "name": "python",
   "nbconvert_exporter": "python",
   "pygments_lexer": "ipython2",
   "version": "2.7.6"
  }
 },
 "nbformat": 4,
 "nbformat_minor": 0
}
