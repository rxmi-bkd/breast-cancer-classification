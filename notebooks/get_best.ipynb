{
 "cells": [
  {
   "cell_type": "code",
   "execution_count": 1,
   "metadata": {
    "ExecuteTime": {
     "end_time": "2023-12-07T15:49:53.486769Z",
     "start_time": "2023-12-07T15:49:53.485081Z"
    }
   },
   "outputs": [],
   "source": [
    "import json\n",
    "\n",
    "from glob import glob"
   ]
  },
  {
   "cell_type": "code",
   "execution_count": 2,
   "metadata": {
    "ExecuteTime": {
     "end_time": "2023-12-07T15:49:53.491723Z",
     "start_time": "2023-12-07T15:49:53.487185Z"
    }
   },
   "outputs": [],
   "source": [
    "paths = glob(\"hp_tuning/trial_*\")"
   ]
  },
  {
   "cell_type": "code",
   "execution_count": 3,
   "metadata": {
    "ExecuteTime": {
     "end_time": "2023-12-07T15:49:53.495919Z",
     "start_time": "2023-12-07T15:49:53.491383Z"
    }
   },
   "outputs": [],
   "source": [
    "trials = {}\n",
    "\n",
    "for path in paths:\n",
    "    trial = path.split(\"/\")[-1]\n",
    "    with open(f\"{path}/trial.json\") as f:\n",
    "        data = json.load(f)\n",
    "    \n",
    "    trials[trial] = data\n"
   ]
  },
  {
   "cell_type": "code",
   "execution_count": 4,
   "metadata": {
    "ExecuteTime": {
     "end_time": "2023-12-07T15:49:53.499754Z",
     "start_time": "2023-12-07T15:49:53.496639Z"
    }
   },
   "outputs": [],
   "source": [
    "def get_best(trials: list, metric: str):\n",
    "    best_trial = None\n",
    "    best_value = None\n",
    "    \n",
    "    for trial, data in trials.items():\n",
    "        value = data[\"metrics\"][\"metrics\"][metric][\"observations\"][0][\"value\"][0]\n",
    "        print(f\"{trial}, {value}\")\n",
    "\n",
    "        if best_value is None or value > best_value:\n",
    "            best_trial = trial\n",
    "            best_value = value\n",
    "    \n",
    "    return best_trial, best_value"
   ]
  },
  {
   "cell_type": "code",
   "execution_count": 5,
   "metadata": {
    "ExecuteTime": {
     "end_time": "2023-12-07T15:49:54.141206Z",
     "start_time": "2023-12-07T15:49:54.068887Z"
    }
   },
   "outputs": [
    {
     "name": "stdout",
     "output_type": "stream",
     "text": [
      "trial_09, 0.8558192849159241\n",
      "trial_07, 0.8524559140205383\n",
      "trial_00, 0.8518847823143005\n",
      "trial_01, 0.86102294921875\n",
      "trial_06, 0.8559461832046509\n",
      "trial_08, 0.8492829203605652\n",
      "trial_03, 0.8507424592971802\n",
      "trial_04, 0.8565173149108887\n",
      "trial_05, 0.8549942970275879\n",
      "trial_02, 0.5\n"
     ]
    },
    {
     "data": {
      "text/plain": "('trial_01', 0.86102294921875)"
     },
     "execution_count": 5,
     "metadata": {},
     "output_type": "execute_result"
    }
   ],
   "source": [
    "get_best(trials, \"val_accuracy\")"
   ]
  }
 ],
 "metadata": {
  "kernelspec": {
   "display_name": "breast-cancer-classification",
   "language": "python",
   "name": "python3"
  },
  "language_info": {
   "codemirror_mode": {
    "name": "ipython",
    "version": 3
   },
   "file_extension": ".py",
   "mimetype": "text/x-python",
   "name": "python",
   "nbconvert_exporter": "python",
   "pygments_lexer": "ipython3",
   "version": "3.9.18"
  }
 },
 "nbformat": 4,
 "nbformat_minor": 2
}
