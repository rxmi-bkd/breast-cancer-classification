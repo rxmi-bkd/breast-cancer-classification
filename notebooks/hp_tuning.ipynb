{
 "cells": [
  {
   "cell_type": "code",
   "execution_count": null,
   "metadata": {
    "tags": []
   },
   "outputs": [],
   "source": [
    "import os\n",
    "import keras_tuner\n",
    "\n",
    "import tensorflow as tf\n",
    "from tensorflow import keras"
   ]
  },
  {
   "cell_type": "code",
   "execution_count": null,
   "metadata": {
    "tags": []
   },
   "outputs": [],
   "source": [
    "\"GPU available\" if tf.config.list_physical_devices(\"GPU\") else \"Not available\""
   ]
  },
  {
   "cell_type": "code",
   "execution_count": null,
   "metadata": {
    "collapsed": false,
    "tags": []
   },
   "outputs": [],
   "source": [
    "image_size = (50, 50)\n",
    "batch_size = 512\n",
    "class_names = [\"idc\", \"non_idc\"]\n",
    "num_classes = len(class_names)"
   ]
  },
  {
   "cell_type": "code",
   "execution_count": null,
   "metadata": {
    "collapsed": false,
    "tags": []
   },
   "outputs": [],
   "source": [
    "train_set = keras.utils.image_dataset_from_directory(\n",
    "    directory=\"../data/dataset/train\",\n",
    "    label_mode=\"binary\",\n",
    "    batch_size=batch_size,\n",
    "    image_size=image_size,\n",
    "    class_names=class_names\n",
    ")\n",
    "\n",
    "val_set = keras.utils.image_dataset_from_directory(\n",
    "    directory=\"../data/dataset/val\",\n",
    "    label_mode=\"binary\",\n",
    "    batch_size=batch_size,\n",
    "    image_size=image_size,\n",
    "    class_names=class_names\n",
    ")"
   ]
  },
  {
   "cell_type": "code",
   "execution_count": null,
   "metadata": {
    "collapsed": false,
    "tags": []
   },
   "outputs": [],
   "source": [
    "def build_model(hp):\n",
    "    inputs = keras.Input(shape=image_size + (3,))\n",
    "\n",
    "    x = keras.layers.Rescaling(1.0 / 255)(inputs)\n",
    "    \n",
    "    x = keras.layers.Conv2D(\n",
    "        filters=hp.Int(name=\"filters1\", min_value=32, max_value=256, step=32), \n",
    "        kernel_size=hp.Choice(name=\"kernel_size1\", values=[3, 5]), \n",
    "        activation=\"relu\"\n",
    "        )(x)\n",
    "    x = keras.layers.MaxPooling2D(pool_size=(2, 2))(x)\n",
    "    \n",
    "    x = keras.layers.Conv2D(\n",
    "        filters=hp.Int(name=\"filters2\", min_value=32, max_value=256, step=32), \n",
    "        kernel_size=hp.Choice(name=\"kernel_size2\", values=[3, 5]), \n",
    "        activation=\"relu\"\n",
    "        )(x)\n",
    "    x = keras.layers.MaxPooling2D(pool_size=(2, 2))(x)\n",
    "    \n",
    "    x = keras.layers.Conv2D(\n",
    "        filters=hp.Int(name=\"filters3\", min_value=32, max_value=256, step=32), \n",
    "        kernel_size=hp.Choice(name=\"kernel_size3\", values=[3, 5]), \n",
    "        activation=\"relu\"\n",
    "        )(x)\n",
    "    x = keras.layers.MaxPooling2D(pool_size=(2, 2))(x)\n",
    "    \n",
    "    x = keras.layers.Flatten()(x)\n",
    "    x = keras.layers.Dense(\n",
    "        units=hp.Int(name=\"units\", min_value=32, max_value=256, step=32), \n",
    "        activation=\"relu\"\n",
    "        )(x)\n",
    "    \n",
    "    if num_classes == 2:\n",
    "        activation = \"sigmoid\"\n",
    "        units = 1\n",
    "    else:\n",
    "        activation = \"softmax\"\n",
    "        units = num_classes\n",
    "\n",
    "    x = keras.layers.Dropout(0.5)(x)\n",
    "    outputs = keras.layers.Dense(units, activation=activation)(x)\n",
    "\n",
    "    model = keras.Model(inputs, outputs)\n",
    "\n",
    "    learning_rate = hp.Float(\"lr\", min_value=1e-4, max_value=1e-2, sampling=\"log\")\n",
    "\n",
    "    model.compile(\n",
    "        optimizer=keras.optimizers.Adam(learning_rate=learning_rate),\n",
    "        loss=\"binary_crossentropy\",\n",
    "        metrics=[\"accuracy\"],\n",
    "    )\n",
    "\n",
    "    return model"
   ]
  },
  {
   "cell_type": "code",
   "execution_count": null,
   "metadata": {
    "tags": []
   },
   "outputs": [],
   "source": [
    "tuner = keras_tuner.tuners.RandomSearch(\n",
    "    hypermodel=build_model,\n",
    "    objective=\"val_accuracy\",\n",
    "    max_trials=10,\n",
    "    executions_per_trial=1,\n",
    "    overwrite=True,\n",
    "    directory=f\".\",\n",
    "    project_name=\".\",\n",
    ")"
   ]
  },
  {
   "cell_type": "code",
   "execution_count": null,
   "metadata": {
    "tags": []
   },
   "outputs": [],
   "source": [
    "tuner.search_space_summary()"
   ]
  },
  {
   "cell_type": "code",
   "execution_count": null,
   "metadata": {
    "tags": []
   },
   "outputs": [],
   "source": [
    "tuner.search(\n",
    "    train_set,\n",
    "    epochs=100,\n",
    "    validation_data=val_set,\n",
    "    callbacks=[keras.callbacks.EarlyStopping(patience=10)],\n",
    ")"
   ]
  },
  {
   "cell_type": "code",
   "execution_count": null,
   "metadata": {
    "tags": []
   },
   "outputs": [],
   "source": [
    "tuner.results_summary()"
   ]
  },
  {
   "cell_type": "code",
   "execution_count": null,
   "metadata": {
    "tags": []
   },
   "outputs": [],
   "source": [
    "models = tuner.get_best_models(num_models=2)\n",
    "best_model = models[0]\n",
    "\n",
    "best_model.build(input_shape=(None, 50, 50, 3))\n",
    "best_model.summary()"
   ]
  }
 ],
 "metadata": {
  "kernelspec": {
   "display_name": "Python 3 (ipykernel)",
   "language": "python",
   "name": "python3"
  },
  "language_info": {
   "codemirror_mode": {
    "name": "ipython",
    "version": 3
   },
   "file_extension": ".py",
   "mimetype": "text/x-python",
   "name": "python",
   "nbconvert_exporter": "python",
   "pygments_lexer": "ipython3",
   "version": "3.10.12"
  }
 },
 "nbformat": 4,
 "nbformat_minor": 4
}
